{
 "cells": [
  {
   "cell_type": "markdown",
   "metadata": {
    "slideshow": {
     "slide_type": "slide"
    }
   },
   "source": [
    "\n",
    "# Welcome to the Software Carpentry \n",
    "\n",
    "<img src=\"img/welcome.jpeg\" alt=\"drawing\" width=\"600\"/>\n",
    "\n"
   ]
  },
  {
   "cell_type": "markdown",
   "metadata": {
    "slideshow": {
     "slide_type": "slide"
    }
   },
   "source": [
    "# Agenda \n",
    "\n",
    "- **Python lesson 1 (day 1)**\n",
    "    - Break 10:45 \n",
    "\n",
    "- Python lesson 2 (day 2)\n",
    "\n",
    "- Unix Shell (day 3)\n",
    "\n",
    "- Git (day 4)"
   ]
  },
  {
   "cell_type": "markdown",
   "metadata": {
    "slideshow": {
     "slide_type": "slide"
    }
   },
   "source": [
    "# Python lesson 1 (day 1)\n",
    "\n",
    "<!-- <img src=\"img/python.jpeg\" alt=\"drawing\" width=\"100\"/> -->\n",
    "\n",
    "- Created by Guido van Rossum \n",
    "- First release in 1991 \n",
    "- Ranks as one of the most popular programming languages \n",
    "\n",
    "<img src=\"img/What is python used for.webp\" alt=\"drawing\" width=\"600\"/>"
   ]
  },
  {
   "cell_type": "markdown",
   "metadata": {
    "slideshow": {
     "slide_type": "slide"
    }
   },
   "source": [
    "# Tools and Setup \n",
    "\n",
    "- software: Anaconda \n",
    "    - Jupyter Notebooks \n",
    "\n",
    "\n"
   ]
  },
  {
   "cell_type": "markdown",
   "metadata": {
    "slideshow": {
     "slide_type": "slide"
    }
   },
   "source": [
    "# Anaconda\n",
    "Anaconda Navigator is a graphical user interface to the conda package and environment manager and a free scientific-computing environment.\n",
    "\n",
    "<img src=\"img/conda.png\" alt=\"drawing\" width=\"650\"/>\n",
    "\n",
    "\n",
    "\n"
   ]
  },
  {
   "cell_type": "markdown",
   "metadata": {
    "slideshow": {
     "slide_type": "slide"
    }
   },
   "source": [
    "## Installation comes with:\n",
    "* Latest version of Python\n",
    "* JupyterLab, Jupyter notebooks and several other IDE options\n",
    "* An easy-to-install collection of high performance Python libraries\n",
    "* Conda, tool for managing packages and environments\n",
    "* Collection of open source packages and tools to install over 1.5k additional packages"
   ]
  },
  {
   "cell_type": "markdown",
   "metadata": {
    "slideshow": {
     "slide_type": "slide"
    }
   },
   "source": [
    "\n",
    "## [Jupyter Notebooks](https://jupyter-notebook.readthedocs.io/en/stable/notebook.html) \n",
    "\n",
    "- Web application that combines computer code, plain language descriptions, data, rich visualizations \n",
    "like 3D models, charts, graphs and figures, and interactive controls. \n",
    "\n",
    "**Advantadges**\n",
    "+ Interactive data analysis\n",
    "+ Prototyping\n",
    "+ Visualizations \n",
    "+ Reporting /show casing a tool \n",
    "\n",
    "**Disadvantadges**\n",
    "- Limited collaboration capabilities \n",
    "- They can become quite large if working with large datasets \n",
    "- Difficulties with debugging\n",
    "- Not advisable if working in large software projects "
   ]
  },
  {
   "cell_type": "markdown",
   "metadata": {
    "slideshow": {
     "slide_type": "slide"
    }
   },
   "source": [
    "# Tools and Setup \n",
    "\n",
    "- Materials : https://github.com/mwakok/software_carpentry_learner\n",
    "\n",
    "- folder-name \n",
    "    - code\n",
    "    - data "
   ]
  },
  {
   "cell_type": "markdown",
   "metadata": {
    "slideshow": {
     "slide_type": "slide"
    }
   },
   "source": [
    "\n",
    "## Expectations for the lesson \n",
    "\n",
    "By the end of the lesson , you should be able to know what are:\n",
    "\n",
    "- Variables and their types \n",
    "- Use other python libraries\n",
    "- Visualize tabular data \n",
    "- Perform repetitive tasks in a simpler way"
   ]
  },
  {
   "cell_type": "markdown",
   "metadata": {
    "slideshow": {
     "slide_type": "slide"
    }
   },
   "source": [
    "# Start of the lesson \n",
    "\n",
    "<img src=\"img/start-lesson.jpeg\" alt=\"drawing\" width=\"500\"/>"
   ]
  },
  {
   "cell_type": "markdown",
   "metadata": {
    "slideshow": {
     "slide_type": "slide"
    }
   },
   "source": [
    "### Key points: Python variables \n",
    "\n",
    "- Basic data types in Python include integers, strings, and floating-point numbers.\n",
    "- Use `variable = value` to assign a value to a variable in order to record it in memory.\n",
    "- Use `print(something)` to display the value of something.\n",
    "- Use # some kind of explanation to add comments to programs.\n",
    "- Built-in functions are always available to use."
   ]
  },
  {
   "cell_type": "markdown",
   "metadata": {
    "slideshow": {
     "slide_type": "slide"
    }
   },
   "source": [
    "# Exercise 1 Python lists \n",
    "\n",
    "Use slicing to access only the last four characters of a string or entries of a list.\n",
    "\n",
    "```python\n",
    "string_for_slicing = 'Observation date: 02-Feb-2013'\n",
    "list_for_slicing = [['fluorine', 'F'],\n",
    "                    ['chlorine', 'Cl'],\n",
    "                    ['bromine', 'Br'],\n",
    "                    ['iodine', 'I'],\n",
    "                    ['astatine', 'At']]\n",
    "```\n",
    "so you get this output :\n",
    "\n",
    "```python\n",
    "'2013'\n",
    "[['chlorine', 'Cl'], ['bromine', 'Br'], ['iodine', 'I'], ['astatine', 'At']]\n",
    "```"
   ]
  },
  {
   "cell_type": "markdown",
   "metadata": {
    "slideshow": {
     "slide_type": "slide"
    }
   },
   "source": [
    "# Solution\n",
    "\n",
    "```python\n",
    "string_for_slicing[-4:]\n",
    "list_for_slicing[-4:]\n",
    "```"
   ]
  },
  {
   "cell_type": "markdown",
   "metadata": {
    "slideshow": {
     "slide_type": "slide"
    }
   },
   "source": [
    "### Keypoints of Lists in Python \n",
    "\n",
    "- [value1, value2, value3, ...] creates a list.\n",
    "- Lists can contain any Python object, including lists (i.e., list of lists).\n",
    "- Lists are indexed and sliced with square brackets (e.g., list[0] and list[2:9]), in the same way as strings and arrays.\n",
    "- Lists are mutable (i.e., their values can be changed in place).\n",
    "- Strings are immutable (i.e., the characters in them cannot be changed)."
   ]
  },
  {
   "cell_type": "markdown",
   "metadata": {
    "slideshow": {
     "slide_type": "slide"
    }
   },
   "source": [
    "# Our case study\n",
    "\n",
    "### Arthritis Inflammation\n",
    "\n",
    "We are studying inflammation in patients who have been given a new treatment for arthritis.\n",
    "\n",
    "There are 60 patients, who had their inflammation levels recorded for 40 days. We want to analyze this data to study the effect of the new arthritis treatment.\n",
    "\n",
    "![](img/lesson-overview.png)"
   ]
  },
  {
   "cell_type": "markdown",
   "metadata": {
    "slideshow": {
     "slide_type": "slide"
    }
   },
   "source": [
    "# Indexes in Python arrays \n",
    "\n",
    "![](img/python-zero-index.svg)"
   ]
  },
  {
   "cell_type": "markdown",
   "metadata": {
    "slideshow": {
     "slide_type": "slide"
    }
   },
   "source": [
    "![](img/python-operations-across-axes.png)"
   ]
  },
  {
   "cell_type": "markdown",
   "metadata": {
    "slideshow": {
     "slide_type": "slide"
    }
   },
   "source": [
    "# Exercise 2 Change in inflammation\n",
    "\n",
    "The patient data is longitudinal in the sense that each row represents a series of observations relating to one individual. This means that the change in inflammation over time is a meaningful concept. \n",
    "The numpy.diff() function takes an array and returns the differences between two successive values. Let’s use it to examine the changes each day across the first week of patient 3 from our inflammation dataset.\n",
    "\n",
    "```python\n",
    "patient3_week1 = data[3, :7]\n",
    "patien3_week1= [0. 0. 2. 0. 4. 2. 2.] #Note that the array of differences is shorter by one element \n",
    "```\n",
    "\n",
    "**Q1: When calling numpy.diff with a multi-dimensional array, an axis argument may be passed to the function to specify which axis to process. When applying numpy.diff to our 2D inflammation array data, which axis would we specify?**\n",
    "\n",
    "**Q2:If the shape of an individual data file is (60, 40) (60 rows and 40 columns), what would the shape of the array be after you run the diff() function and why?**"
   ]
  },
  {
   "cell_type": "markdown",
   "metadata": {
    "slideshow": {
     "slide_type": "slide"
    }
   },
   "source": [
    "# Solution\n",
    "\n",
    "Q1: Since the row axis (0) is patients, it does not make sense to get the difference between two arbitrary patients. The column axis (1) is in days, so the difference is the change in inflammation – a meaningful concept.\n",
    "\n",
    "```python\n",
    "numpy.diff(data, axis=1)\n",
    "```\n",
    "\n",
    "Q2: The shape will be (60, 39) because there is one fewer difference between columns than there are columns in the data."
   ]
  },
  {
   "cell_type": "markdown",
   "metadata": {
    "slideshow": {
     "slide_type": "slide"
    }
   },
   "source": [
    "### Key points of Analysing tabular data with Python \n",
    "\n",
    "- Import a library into a program using import libraryname.\n",
    "- Use the numpy library to work with arrays in Python.\n",
    "- The expression `array.shape` gives the shape of an array.\n",
    "- Use array[x, y] to select a single element from a 2D array.\n",
    "- Array indices start at 0, not 1.\n",
    "- Use low:high to specify a slice that includes the indices from low to high-1.\n",
    "- Use numpy.mean(array), numpy.amax(array), and numpy.amin(array) to calculate simple statistics.\n",
    "- Use numpy.mean(array, axis=0) or numpy.mean(array, axis=1) to calculate statistics across the specified axis."
   ]
  },
  {
   "cell_type": "markdown",
   "metadata": {
    "slideshow": {
     "slide_type": "slide"
    }
   },
   "source": [
    "# Break \n",
    "\n",
    "<img src=\"img/break_image_time.jpeg\" alt=\"drawing\" width=\"500\"/>\n"
   ]
  }
 ],
 "metadata": {
  "language_info": {
   "name": "python"
  }
 },
 "nbformat": 4,
 "nbformat_minor": 2
}
